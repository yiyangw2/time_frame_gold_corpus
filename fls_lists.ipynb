{
 "cells": [
  {
   "cell_type": "code",
   "execution_count": 1,
   "id": "4ab4059d-c318-4455-b2f5-cbaf2964bd87",
   "metadata": {
    "execution": {
     "iopub.execute_input": "2024-07-11T03:20:19.628674Z",
     "iopub.status.busy": "2024-07-11T03:20:19.628194Z",
     "iopub.status.idle": "2024-07-11T03:20:19.634596Z",
     "shell.execute_reply": "2024-07-11T03:20:19.633082Z",
     "shell.execute_reply.started": "2024-07-11T03:20:19.628648Z"
    }
   },
   "outputs": [],
   "source": [
    "from itertools import product, chain\n",
    "import re\n",
    "\n",
    "first_words = [\"next\", \"incoming\", \"coming\", \"upcoming\", \"subsequent\", \n",
    "               \"following\"]\n",
    "second_words = [\"fiscal\", \"month\", \"period\", \"quarter\", \"year\"]\n",
    "\n",
    "# Note that \"'ll\" is an addition to original list\n",
    "first_search = [\"'ll\", \"will\", \"future\"] + \\\n",
    "      [first + ' ' + second \n",
    "       for first, second in product(first_words, second_words)]"
   ]
  },
  {
   "cell_type": "code",
   "execution_count": 2,
   "id": "69fb7fd1-06e4-4e06-a3d0-5a29cda34652",
   "metadata": {
    "execution": {
     "iopub.execute_input": "2024-07-11T03:20:19.636495Z",
     "iopub.status.busy": "2024-07-11T03:20:19.636136Z",
     "iopub.status.idle": "2024-07-11T03:20:19.647494Z",
     "shell.execute_reply": "2024-07-11T03:20:19.646673Z",
     "shell.execute_reply.started": "2024-07-11T03:20:19.636470Z"
    }
   },
   "outputs": [],
   "source": [
    "template = [\"we $word\", \"and $word\", \"but $word\", \"do not $word\",\n",
    "            \"company $words\", \"corporation $words\", \"firm $words\",\n",
    "            \"management $words\", \"and $words\", \"but $words\", \n",
    "            \"does not $word\", \"is $past_tense\", \"are $past_tense\",\n",
    "            \"not $past_tense\", \"is $pres_part\", \"are $pres_part\", \n",
    "            \"not $pres_part\", \"normally $word\",\n",
    "            \"normally $words\", \"currently $word\", \"currently $words\",\n",
    "            \"also $word\", \"also $words\"]\n",
    "\n",
    "verbs = [\"aim\", \"anticipate\", \"assume\", \"commit\", \"estimate\", \n",
    "         \"expect\", \"forecast\", \"foresee\", \"hope\", \"intend\",\n",
    "         \"plan\", \"project\", \"seek\", \"target\"]\n",
    "\n",
    "def past_tense(word):\n",
    "    if word == \"commit\":\n",
    "        return \"committed\"\n",
    "    elif word == \"plan\":\n",
    "        return \"planned\"\n",
    "    elif word == \"foresee\":\n",
    "        return \"foreseen\"\n",
    "    elif word == \"seek\":\n",
    "        return \"sought\"\n",
    "    elif re.search(\"e$\", word):\n",
    "        return word + \"d\"\n",
    "    else:\n",
    "        return word + \"ed\"\n",
    "\n",
    "def present_participle(word):\n",
    "    if word == \"commit\":\n",
    "        return \"committing\"\n",
    "    elif word == \"plan\":\n",
    "        return \"planning\"\n",
    "    elif re.search(\"[^e]e$\", word):\n",
    "        return re.sub(\"e$\", \"ing\", word)\n",
    "    else:\n",
    "        return word + \"ing\"\n",
    "\n",
    "def complete_template(word):\n",
    "    from string import Template\n",
    "    words = word + \"s\"\n",
    "    past = past_tense(word)\n",
    "    part = present_participle(word)\n",
    "    return [Template(str).substitute(word=word, words=words,\n",
    "                              past_tense=past, pres_part=part) \n",
    "            for str in template]\n",
    "\n",
    "def flatten(list_of_lists):\n",
    "    return list(chain.from_iterable(list_of_lists))\n",
    "    \n",
    "second_search = flatten([complete_template(verb) for verb in verbs])"
   ]
  },
  {
   "cell_type": "code",
   "execution_count": 3,
   "id": "0192652d-ee93-447f-9232-65fa257973d8",
   "metadata": {
    "execution": {
     "iopub.execute_input": "2024-07-11T03:20:19.648297Z",
     "iopub.status.busy": "2024-07-11T03:20:19.648138Z",
     "iopub.status.idle": "2024-07-11T03:20:19.651921Z",
     "shell.execute_reply": "2024-07-11T03:20:19.651308Z",
     "shell.execute_reply.started": "2024-07-11T03:20:19.648279Z"
    }
   },
   "outputs": [],
   "source": [
    "all_search = first_search + second_search"
   ]
  },
  {
   "cell_type": "code",
   "execution_count": 4,
   "id": "e284dd72-425d-4327-a712-d7a711fa30fc",
   "metadata": {
    "execution": {
     "iopub.execute_input": "2024-07-11T03:20:19.652708Z",
     "iopub.status.busy": "2024-07-11T03:20:19.652524Z",
     "iopub.status.idle": "2024-07-11T03:20:19.656488Z",
     "shell.execute_reply": "2024-07-11T03:20:19.656145Z",
     "shell.execute_reply.started": "2024-07-11T03:20:19.652689Z"
    }
   },
   "outputs": [],
   "source": [
    "def term_list(terms_file):\n",
    "    \"\"\"Creates a list of terms\"\"\"\n",
    "\n",
    "    # opens the specified dict_file in \"r\" (read) mode\n",
    "    with open(terms_file,\"r\") as file:\n",
    "        # reads the content of the file line-by-line\n",
    "        # and creates a list of terms\n",
    "        terms = file.read().splitlines()\n",
    "\n",
    "    return [s.strip() for s in terms]\n",
    "    \n",
    "all_search_yy = term_list(r\"fls_terms2.txt\")"
   ]
  },
  {
   "cell_type": "code",
   "execution_count": 5,
   "id": "e48fe896-9615-4d31-960a-1f9f5e924145",
   "metadata": {
    "execution": {
     "iopub.execute_input": "2024-07-11T03:20:19.657217Z",
     "iopub.status.busy": "2024-07-11T03:20:19.657075Z",
     "iopub.status.idle": "2024-07-11T03:20:19.663550Z",
     "shell.execute_reply": "2024-07-11T03:20:19.663221Z",
     "shell.execute_reply.started": "2024-07-11T03:20:19.657202Z"
    }
   },
   "outputs": [
    {
     "data": {
      "text/plain": [
       "['we estimate',\n",
       " 'and estimate',\n",
       " 'but estimate',\n",
       " 'do not estimate',\n",
       " 'company estimates',\n",
       " 'corporation estimates',\n",
       " 'firm estimates',\n",
       " 'management estimates',\n",
       " 'and estimates',\n",
       " 'but estimates',\n",
       " 'does not estimate',\n",
       " 'is estimated',\n",
       " 'are estimated',\n",
       " 'not estimated',\n",
       " 'is estimating',\n",
       " 'are estimating',\n",
       " 'not estimating',\n",
       " 'normally estimate',\n",
       " 'normally estimates',\n",
       " 'currently estimate',\n",
       " 'currently estimates',\n",
       " 'also estimate',\n",
       " 'also estimates',\n",
       " 'is planned',\n",
       " 'are planned',\n",
       " 'not planned',\n",
       " 'is planning',\n",
       " 'are planning',\n",
       " 'not planning']"
      ]
     },
     "execution_count": 5,
     "metadata": {},
     "output_type": "execute_result"
    }
   ],
   "source": [
    "[term for term in all_search if term not in all_search_yy]"
   ]
  },
  {
   "cell_type": "code",
   "execution_count": 6,
   "id": "c0768481-89b9-434d-9d52-420c047ea722",
   "metadata": {
    "execution": {
     "iopub.execute_input": "2024-07-11T03:20:19.665516Z",
     "iopub.status.busy": "2024-07-11T03:20:19.665256Z",
     "iopub.status.idle": "2024-07-11T03:20:19.669756Z",
     "shell.execute_reply": "2024-07-11T03:20:19.669436Z",
     "shell.execute_reply.started": "2024-07-11T03:20:19.665502Z"
    }
   },
   "outputs": [
    {
     "data": {
      "text/plain": [
       "['is planed',\n",
       " 'are planed',\n",
       " 'not planed',\n",
       " 'is planing',\n",
       " 'are planing',\n",
       " 'not planing']"
      ]
     },
     "execution_count": 6,
     "metadata": {},
     "output_type": "execute_result"
    }
   ],
   "source": [
    "[term for term in all_search_yy if term not in all_search]"
   ]
  }
 ],
 "metadata": {
  "kernelspec": {
   "display_name": "Python 3 (ipykernel)",
   "language": "python",
   "name": "python3"
  },
  "language_info": {
   "codemirror_mode": {
    "name": "ipython",
    "version": 3
   },
   "file_extension": ".py",
   "mimetype": "text/x-python",
   "name": "python",
   "nbconvert_exporter": "python",
   "pygments_lexer": "ipython3",
   "version": "3.12.4"
  }
 },
 "nbformat": 4,
 "nbformat_minor": 5
}
