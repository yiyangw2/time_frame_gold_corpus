{
 "cells": [
  {
   "cell_type": "markdown",
   "id": "b7d9956a",
   "metadata": {},
   "source": [
    "# Classification performance of the keyword search algorithm\n",
    "\n",
    "The data and code here produces the in-sample and out-of-sample classification performance statistics.\n",
    "\n",
    "I use keyword search to find forward-looking sentences. The keyword list for forward-looking is uploaded [here](https://github.com/yiyangw2/time_frame_gold_corpus/blob/main/fls_terms2.txt). Besides, I determine that if a sentence contains words of years for the coming ten years, it is also forward-looking. The word list is adapted from [Muslu et al. [2015]](https://doi.org/10.1287/mnsc.2014.1921).\n",
    "\n",
    "Among the forward-looking statements, I use a time frame keyword list to identify those with time frames.\n",
    "The keyword list for time frames is uploaded [here](https://github.com/yiyangw2/time_frame_gold_corpus/blob/main/qt_terms2.txt).\n",
    "The time frame keyword list is adapted from [Brochet, Loumioti and Serafeim [2015]](https://doi.org/10.1007/s11142-015-9329-8)."
   ]
  },
  {
   "cell_type": "code",
   "execution_count": 1,
   "id": "a00b876b",
   "metadata": {
    "execution": {
     "iopub.execute_input": "2024-07-18T02:55:18.615277Z",
     "iopub.status.busy": "2024-07-18T02:55:18.615018Z",
     "iopub.status.idle": "2024-07-18T02:55:19.189640Z",
     "shell.execute_reply": "2024-07-18T02:55:19.189392Z",
     "shell.execute_reply.started": "2024-07-18T02:55:18.615253Z"
    }
   },
   "outputs": [
    {
     "data": {
      "text/html": [
       "<div>\n",
       "<style scoped>\n",
       "    .dataframe tbody tr th:only-of-type {\n",
       "        vertical-align: middle;\n",
       "    }\n",
       "\n",
       "    .dataframe tbody tr th {\n",
       "        vertical-align: top;\n",
       "    }\n",
       "\n",
       "    .dataframe thead th {\n",
       "        text-align: right;\n",
       "    }\n",
       "</style>\n",
       "<table border=\"1\" class=\"dataframe\">\n",
       "  <thead>\n",
       "    <tr style=\"text-align: right;\">\n",
       "      <th></th>\n",
       "      <th>file_name</th>\n",
       "      <th>section</th>\n",
       "      <th>context</th>\n",
       "      <th>speaker_number</th>\n",
       "      <th>future_year</th>\n",
       "      <th>speaker_text</th>\n",
       "      <th>fl</th>\n",
       "      <th>qt</th>\n",
       "      <th>fl_qt</th>\n",
       "      <th>training sample</th>\n",
       "    </tr>\n",
       "  </thead>\n",
       "  <tbody>\n",
       "    <tr>\n",
       "      <th>0</th>\n",
       "      <td>12614899_T</td>\n",
       "      <td>1</td>\n",
       "      <td>qa</td>\n",
       "      <td>23</td>\n",
       "      <td>2019</td>\n",
       "      <td>Okay.</td>\n",
       "      <td>0</td>\n",
       "      <td>0</td>\n",
       "      <td>0</td>\n",
       "      <td>0</td>\n",
       "    </tr>\n",
       "    <tr>\n",
       "      <th>1</th>\n",
       "      <td>12614899_T</td>\n",
       "      <td>1</td>\n",
       "      <td>qa</td>\n",
       "      <td>23</td>\n",
       "      <td>2019</td>\n",
       "      <td>And lastly from me, can you kind of give us a ...</td>\n",
       "      <td>0</td>\n",
       "      <td>0</td>\n",
       "      <td>0</td>\n",
       "      <td>1</td>\n",
       "    </tr>\n",
       "    <tr>\n",
       "      <th>2</th>\n",
       "      <td>12614899_T</td>\n",
       "      <td>1</td>\n",
       "      <td>qa</td>\n",
       "      <td>23</td>\n",
       "      <td>2019</td>\n",
       "      <td>What's the share of wallet for Knoll products?</td>\n",
       "      <td>0</td>\n",
       "      <td>0</td>\n",
       "      <td>0</td>\n",
       "      <td>1</td>\n",
       "    </tr>\n",
       "    <tr>\n",
       "      <th>3</th>\n",
       "      <td>702568_T</td>\n",
       "      <td>1</td>\n",
       "      <td>qa</td>\n",
       "      <td>109</td>\n",
       "      <td>2003</td>\n",
       "      <td>Okay.</td>\n",
       "      <td>0</td>\n",
       "      <td>0</td>\n",
       "      <td>0</td>\n",
       "      <td>1</td>\n",
       "    </tr>\n",
       "    <tr>\n",
       "      <th>4</th>\n",
       "      <td>702568_T</td>\n",
       "      <td>1</td>\n",
       "      <td>qa</td>\n",
       "      <td>109</td>\n",
       "      <td>2003</td>\n",
       "      <td>So I don't think anybody said much more.</td>\n",
       "      <td>0</td>\n",
       "      <td>0</td>\n",
       "      <td>0</td>\n",
       "      <td>1</td>\n",
       "    </tr>\n",
       "    <tr>\n",
       "      <th>...</th>\n",
       "      <td>...</td>\n",
       "      <td>...</td>\n",
       "      <td>...</td>\n",
       "      <td>...</td>\n",
       "      <td>...</td>\n",
       "      <td>...</td>\n",
       "      <td>...</td>\n",
       "      <td>...</td>\n",
       "      <td>...</td>\n",
       "      <td>...</td>\n",
       "    </tr>\n",
       "    <tr>\n",
       "      <th>1283</th>\n",
       "      <td>2723598_T</td>\n",
       "      <td>1</td>\n",
       "      <td>pres</td>\n",
       "      <td>5</td>\n",
       "      <td>2010</td>\n",
       "      <td>With that, let's open the call to your questions.</td>\n",
       "      <td>0</td>\n",
       "      <td>0</td>\n",
       "      <td>0</td>\n",
       "      <td>0</td>\n",
       "    </tr>\n",
       "    <tr>\n",
       "      <th>1284</th>\n",
       "      <td>2723598_T</td>\n",
       "      <td>1</td>\n",
       "      <td>pres</td>\n",
       "      <td>5</td>\n",
       "      <td>2010</td>\n",
       "      <td>Yvette, please review the Q&amp;A procedure.</td>\n",
       "      <td>0</td>\n",
       "      <td>0</td>\n",
       "      <td>0</td>\n",
       "      <td>1</td>\n",
       "    </tr>\n",
       "    <tr>\n",
       "      <th>1285</th>\n",
       "      <td>739440_T</td>\n",
       "      <td>1</td>\n",
       "      <td>qa</td>\n",
       "      <td>154</td>\n",
       "      <td>2003</td>\n",
       "      <td>This is a follow up question from Chris Joseph...</td>\n",
       "      <td>0</td>\n",
       "      <td>0</td>\n",
       "      <td>0</td>\n",
       "      <td>1</td>\n",
       "    </tr>\n",
       "    <tr>\n",
       "      <th>1286</th>\n",
       "      <td>739440_T</td>\n",
       "      <td>1</td>\n",
       "      <td>qa</td>\n",
       "      <td>154</td>\n",
       "      <td>2003</td>\n",
       "      <td>from [inaudible].</td>\n",
       "      <td>0</td>\n",
       "      <td>0</td>\n",
       "      <td>0</td>\n",
       "      <td>1</td>\n",
       "    </tr>\n",
       "    <tr>\n",
       "      <th>1287</th>\n",
       "      <td>739440_T</td>\n",
       "      <td>1</td>\n",
       "      <td>qa</td>\n",
       "      <td>154</td>\n",
       "      <td>2003</td>\n",
       "      <td>Please go ahead.</td>\n",
       "      <td>0</td>\n",
       "      <td>0</td>\n",
       "      <td>0</td>\n",
       "      <td>0</td>\n",
       "    </tr>\n",
       "  </tbody>\n",
       "</table>\n",
       "<p>1288 rows × 10 columns</p>\n",
       "</div>"
      ],
      "text/plain": [
       "       file_name  section context  speaker_number  future_year  \\\n",
       "0     12614899_T        1      qa              23         2019   \n",
       "1     12614899_T        1      qa              23         2019   \n",
       "2     12614899_T        1      qa              23         2019   \n",
       "3       702568_T        1      qa             109         2003   \n",
       "4       702568_T        1      qa             109         2003   \n",
       "...          ...      ...     ...             ...          ...   \n",
       "1283   2723598_T        1    pres               5         2010   \n",
       "1284   2723598_T        1    pres               5         2010   \n",
       "1285    739440_T        1      qa             154         2003   \n",
       "1286    739440_T        1      qa             154         2003   \n",
       "1287    739440_T        1      qa             154         2003   \n",
       "\n",
       "                                           speaker_text  fl  qt  fl_qt  \\\n",
       "0                                                 Okay.   0   0      0   \n",
       "1     And lastly from me, can you kind of give us a ...   0   0      0   \n",
       "2        What's the share of wallet for Knoll products?   0   0      0   \n",
       "3                                                 Okay.   0   0      0   \n",
       "4              So I don't think anybody said much more.   0   0      0   \n",
       "...                                                 ...  ..  ..    ...   \n",
       "1283  With that, let's open the call to your questions.   0   0      0   \n",
       "1284           Yvette, please review the Q&A procedure.   0   0      0   \n",
       "1285  This is a follow up question from Chris Joseph...   0   0      0   \n",
       "1286                                  from [inaudible].   0   0      0   \n",
       "1287                                   Please go ahead.   0   0      0   \n",
       "\n",
       "      training sample  \n",
       "0                   0  \n",
       "1                   1  \n",
       "2                   1  \n",
       "3                   1  \n",
       "4                   1  \n",
       "...               ...  \n",
       "1283                0  \n",
       "1284                1  \n",
       "1285                1  \n",
       "1286                1  \n",
       "1287                0  \n",
       "\n",
       "[1288 rows x 10 columns]"
      ]
     },
     "execution_count": 1,
     "metadata": {},
     "output_type": "execute_result"
    }
   ],
   "source": [
    "import pandas as pd\n",
    "gold_standard = pd.read_excel(\"Gold Standard Corpus.xlsx\")\n",
    "gold_standard = gold_standard[['file_name', 'section', 'context', \n",
    "                               'speaker_number', 'future_year',\n",
    "                               'speaker_text', 'fl', 'qt', 'fl_qt', 'training sample']]\n",
    "gold_standard"
   ]
  },
  {
   "cell_type": "markdown",
   "id": "50ae3f84",
   "metadata": {},
   "source": [
    "The underlying text associated with the gold standard is found in [`Gold Standard Corpus.xlsx`](https://github.com/yiyangw2/time_frame_gold_corpus/blob/main/Gold%20Standard%20Corpus.xlsx). It is composed of 200 randomly picked up paragraphs of the management (1288 sentences). As you can see, each sentence has identifiers for where it comes from. And values for `fl_cal`,`qt_cal` and `fl_qt_cal`, reflecting whether the algorithm determines that whether the sentence is forward-looking, whether it contains time frames and whether it is a forward-looking statement with time frames. Similarly, each observation has values for `fl`,`qt` and `fl_qt`, which is whether I manually determine that whether the sentence is forward-looking, whether it contains time frames and whether it is a forward-looking statement with time frames. The underlying earnings calls' scripts are from the Melbourne Centre for Corporate Governance and Regulation (MCCGR) database. "
   ]
  },
  {
   "cell_type": "code",
   "execution_count": 2,
   "id": "36df1ec7-fbc9-4aef-9c9b-b600da0dcd15",
   "metadata": {
    "execution": {
     "iopub.execute_input": "2024-07-18T02:55:19.190171Z",
     "iopub.status.busy": "2024-07-18T02:55:19.190066Z",
     "iopub.status.idle": "2024-07-18T02:55:19.196754Z",
     "shell.execute_reply": "2024-07-18T02:55:19.196511Z",
     "shell.execute_reply.started": "2024-07-18T02:55:19.190162Z"
    }
   },
   "outputs": [],
   "source": [
    "from time_frame import is_forward_looking, is_qt_term, print_stats"
   ]
  },
  {
   "cell_type": "markdown",
   "id": "30beaca8",
   "metadata": {},
   "source": [
    "The following code applies the identification functions to each sentence and shows how `fl_cal`, `qt_cal` and `fl_qt_cal` in `gold_standard` are produced."
   ]
  },
  {
   "cell_type": "code",
   "execution_count": 3,
   "id": "0c8e0a5d-f6b8-40c1-907f-ef4bb5c4e2c3",
   "metadata": {
    "execution": {
     "iopub.execute_input": "2024-07-18T02:55:19.197226Z",
     "iopub.status.busy": "2024-07-18T02:55:19.197155Z",
     "iopub.status.idle": "2024-07-18T02:55:20.036667Z",
     "shell.execute_reply": "2024-07-18T02:55:20.036383Z",
     "shell.execute_reply.started": "2024-07-18T02:55:19.197219Z"
    }
   },
   "outputs": [],
   "source": [
    "gold_standard['fl_cal'] = gold_standard.apply(lambda x: is_forward_looking(x['speaker_text'], x['future_year']), axis=1)\n",
    "gold_standard['qt_cal'] = gold_standard['speaker_text'].map(is_qt_term)\n",
    "gold_standard['fl_qt_cal'] = gold_standard.fl_cal & gold_standard.qt_cal"
   ]
  },
  {
   "cell_type": "markdown",
   "id": "19569d34",
   "metadata": {},
   "source": [
    "The following function generates statistics to report the performance of the algorithm on identifying forward-looking statements and forward-looking statements with time frames."
   ]
  },
  {
   "cell_type": "code",
   "execution_count": 4,
   "id": "4f50079d-e1bc-4aa1-b6d8-180d25ec61c2",
   "metadata": {
    "execution": {
     "iopub.execute_input": "2024-07-18T02:55:20.037195Z",
     "iopub.status.busy": "2024-07-18T02:55:20.037112Z",
     "iopub.status.idle": "2024-07-18T02:55:20.039604Z",
     "shell.execute_reply": "2024-07-18T02:55:20.039381Z",
     "shell.execute_reply.started": "2024-07-18T02:55:20.037188Z"
    }
   },
   "outputs": [],
   "source": [
    "training_sample = gold_standard[gold_standard['training sample']==1]\n",
    "test_sample = gold_standard[gold_standard['training sample']==0]"
   ]
  },
  {
   "cell_type": "code",
   "execution_count": 5,
   "id": "dfdd9bc4-5416-4af5-96dd-e20a0b1eb77c",
   "metadata": {
    "execution": {
     "iopub.execute_input": "2024-07-18T02:55:20.039974Z",
     "iopub.status.busy": "2024-07-18T02:55:20.039908Z",
     "iopub.status.idle": "2024-07-18T02:55:20.042111Z",
     "shell.execute_reply": "2024-07-18T02:55:20.041874Z",
     "shell.execute_reply.started": "2024-07-18T02:55:20.039967Z"
    }
   },
   "outputs": [
    {
     "name": "stdout",
     "output_type": "stream",
     "text": [
      "Accuracy 95.23%\n",
      "Precision 82.09%\n",
      "True positive rate 85.94%\n"
     ]
    }
   ],
   "source": [
    "print_stats(training_sample, type = 'fl')"
   ]
  },
  {
   "cell_type": "code",
   "execution_count": 6,
   "id": "49d87da3",
   "metadata": {
    "execution": {
     "iopub.execute_input": "2024-07-18T02:55:20.043393Z",
     "iopub.status.busy": "2024-07-18T02:55:20.043317Z",
     "iopub.status.idle": "2024-07-18T02:55:20.045693Z",
     "shell.execute_reply": "2024-07-18T02:55:20.045438Z",
     "shell.execute_reply.started": "2024-07-18T02:55:20.043386Z"
    }
   },
   "outputs": [
    {
     "name": "stdout",
     "output_type": "stream",
     "text": [
      "Accuracy 96.37%\n",
      "Precision 88.64%\n",
      "True positive rate 59.09%\n"
     ]
    }
   ],
   "source": [
    "print_stats(training_sample, type = 'fl_qt')"
   ]
  },
  {
   "cell_type": "code",
   "execution_count": 7,
   "id": "8279b9d0",
   "metadata": {
    "execution": {
     "iopub.execute_input": "2024-07-18T02:55:20.046120Z",
     "iopub.status.busy": "2024-07-18T02:55:20.046034Z",
     "iopub.status.idle": "2024-07-18T02:55:20.048956Z",
     "shell.execute_reply": "2024-07-18T02:55:20.048690Z",
     "shell.execute_reply.started": "2024-07-18T02:55:20.046111Z"
    }
   },
   "outputs": [
    {
     "name": "stdout",
     "output_type": "stream",
     "text": [
      "Accuracy 95.82%\n",
      "Precision 83.61%\n",
      "True positive rate 87.93%\n"
     ]
    }
   ],
   "source": [
    "print_stats(test_sample, type = 'fl')"
   ]
  },
  {
   "cell_type": "code",
   "execution_count": 8,
   "id": "8b09f56c",
   "metadata": {
    "execution": {
     "iopub.execute_input": "2024-07-18T02:55:20.049529Z",
     "iopub.status.busy": "2024-07-18T02:55:20.049403Z",
     "iopub.status.idle": "2024-07-18T02:55:20.051876Z",
     "shell.execute_reply": "2024-07-18T02:55:20.051577Z",
     "shell.execute_reply.started": "2024-07-18T02:55:20.049521Z"
    }
   },
   "outputs": [
    {
     "name": "stdout",
     "output_type": "stream",
     "text": [
      "Accuracy 96.56%\n",
      "Precision 75.00%\n",
      "True positive rate 69.23%\n"
     ]
    }
   ],
   "source": [
    "print_stats(test_sample, type = 'fl_qt')"
   ]
  }
 ],
 "metadata": {
  "kernelspec": {
   "display_name": "Python 3 (ipykernel)",
   "language": "python",
   "name": "python3"
  },
  "language_info": {
   "codemirror_mode": {
    "name": "ipython",
    "version": 3
   },
   "file_extension": ".py",
   "mimetype": "text/x-python",
   "name": "python",
   "nbconvert_exporter": "python",
   "pygments_lexer": "ipython3",
   "version": "3.12.4"
  }
 },
 "nbformat": 4,
 "nbformat_minor": 5
}
