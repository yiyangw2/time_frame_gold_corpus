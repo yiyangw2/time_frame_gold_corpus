{
 "cells": [
  {
   "cell_type": "markdown",
   "id": "b7d9956a",
   "metadata": {},
   "source": [
    "# Classification performance of the keyword search algorithm\n",
    "\n",
    "The data and code here produces the in-sample and out-of-sample classification performance statistics.\n",
    "\n",
    "I use keyword search to find forward-looking sentences. The keyword list for forward-looking is uploaded [here](https://github.com/yiyangw2/time_frame_gold_corpus/blob/main/fls_terms2.txt). Besides, I determine that if a sentence contains words of years for the coming ten years, it is also forward-looking. The word list is adapted from [previous studies](https://pubsonline.informs.org/doi/abs/10.1287/mnsc.2014.1921).\n",
    "\n",
    "Among the forward-looking statements, I use a time frame keyword list to identify those with time frames. The keyword list for time frames is uploaded [here](https://github.com/yiyangw2/time_frame_gold_corpus/blob/main/qt_terms2.txt).The time frame keyword list is adapted from  [previous studies](https://link.springer.com/article/10.1007/s11142-015-9329-8)."
   ]
  },
  {
   "cell_type": "code",
   "execution_count": 1,
   "id": "a00b876b",
   "metadata": {
    "execution": {
     "iopub.execute_input": "2024-07-10T22:39:52.269695Z",
     "iopub.status.busy": "2024-07-10T22:39:52.269220Z",
     "iopub.status.idle": "2024-07-10T22:39:52.766098Z",
     "shell.execute_reply": "2024-07-10T22:39:52.765849Z",
     "shell.execute_reply.started": "2024-07-10T22:39:52.269668Z"
    }
   },
   "outputs": [
    {
     "data": {
      "text/html": [
       "<div>\n",
       "<style scoped>\n",
       "    .dataframe tbody tr th:only-of-type {\n",
       "        vertical-align: middle;\n",
       "    }\n",
       "\n",
       "    .dataframe tbody tr th {\n",
       "        vertical-align: top;\n",
       "    }\n",
       "\n",
       "    .dataframe thead th {\n",
       "        text-align: right;\n",
       "    }\n",
       "</style>\n",
       "<table border=\"1\" class=\"dataframe\">\n",
       "  <thead>\n",
       "    <tr style=\"text-align: right;\">\n",
       "      <th></th>\n",
       "      <th>file_name</th>\n",
       "      <th>last_update</th>\n",
       "      <th>section</th>\n",
       "      <th>context</th>\n",
       "      <th>speaker_number</th>\n",
       "      <th>future_year</th>\n",
       "      <th>speaker_text</th>\n",
       "      <th>fl</th>\n",
       "      <th>qt</th>\n",
       "      <th>fl_qt</th>\n",
       "      <th>fl_cal</th>\n",
       "      <th>qt_cal</th>\n",
       "      <th>fl_qt_cal</th>\n",
       "      <th>training sample</th>\n",
       "      <th>test sample</th>\n",
       "    </tr>\n",
       "  </thead>\n",
       "  <tbody>\n",
       "    <tr>\n",
       "      <th>0</th>\n",
       "      <td>12614899_T</td>\n",
       "      <td>2019-08-01 19:19:18+10:00</td>\n",
       "      <td>1</td>\n",
       "      <td>qa</td>\n",
       "      <td>23</td>\n",
       "      <td>2019</td>\n",
       "      <td>Okay.</td>\n",
       "      <td>0</td>\n",
       "      <td>0</td>\n",
       "      <td>0</td>\n",
       "      <td>0</td>\n",
       "      <td>0</td>\n",
       "      <td>0</td>\n",
       "      <td>0</td>\n",
       "      <td>0</td>\n",
       "    </tr>\n",
       "    <tr>\n",
       "      <th>1</th>\n",
       "      <td>12614899_T</td>\n",
       "      <td>2019-08-01 19:19:18+10:00</td>\n",
       "      <td>1</td>\n",
       "      <td>qa</td>\n",
       "      <td>23</td>\n",
       "      <td>2019</td>\n",
       "      <td>And lastly from me, can you kind of give us a ...</td>\n",
       "      <td>0</td>\n",
       "      <td>0</td>\n",
       "      <td>0</td>\n",
       "      <td>0</td>\n",
       "      <td>0</td>\n",
       "      <td>0</td>\n",
       "      <td>1</td>\n",
       "      <td>0</td>\n",
       "    </tr>\n",
       "    <tr>\n",
       "      <th>2</th>\n",
       "      <td>12614899_T</td>\n",
       "      <td>2019-08-01 19:19:18+10:00</td>\n",
       "      <td>1</td>\n",
       "      <td>qa</td>\n",
       "      <td>23</td>\n",
       "      <td>2019</td>\n",
       "      <td>What's the share of wallet for Knoll products?</td>\n",
       "      <td>0</td>\n",
       "      <td>0</td>\n",
       "      <td>0</td>\n",
       "      <td>0</td>\n",
       "      <td>0</td>\n",
       "      <td>0</td>\n",
       "      <td>1</td>\n",
       "      <td>0</td>\n",
       "    </tr>\n",
       "    <tr>\n",
       "      <th>3</th>\n",
       "      <td>702568_T</td>\n",
       "      <td>2003-01-30 16:25:51+11:00</td>\n",
       "      <td>1</td>\n",
       "      <td>qa</td>\n",
       "      <td>109</td>\n",
       "      <td>2003</td>\n",
       "      <td>Okay.</td>\n",
       "      <td>0</td>\n",
       "      <td>0</td>\n",
       "      <td>0</td>\n",
       "      <td>0</td>\n",
       "      <td>0</td>\n",
       "      <td>0</td>\n",
       "      <td>1</td>\n",
       "      <td>0</td>\n",
       "    </tr>\n",
       "    <tr>\n",
       "      <th>4</th>\n",
       "      <td>702568_T</td>\n",
       "      <td>2003-01-30 16:25:51+11:00</td>\n",
       "      <td>1</td>\n",
       "      <td>qa</td>\n",
       "      <td>109</td>\n",
       "      <td>2003</td>\n",
       "      <td>So I don't think anybody said much more.</td>\n",
       "      <td>0</td>\n",
       "      <td>0</td>\n",
       "      <td>0</td>\n",
       "      <td>0</td>\n",
       "      <td>0</td>\n",
       "      <td>0</td>\n",
       "      <td>1</td>\n",
       "      <td>0</td>\n",
       "    </tr>\n",
       "    <tr>\n",
       "      <th>...</th>\n",
       "      <td>...</td>\n",
       "      <td>...</td>\n",
       "      <td>...</td>\n",
       "      <td>...</td>\n",
       "      <td>...</td>\n",
       "      <td>...</td>\n",
       "      <td>...</td>\n",
       "      <td>...</td>\n",
       "      <td>...</td>\n",
       "      <td>...</td>\n",
       "      <td>...</td>\n",
       "      <td>...</td>\n",
       "      <td>...</td>\n",
       "      <td>...</td>\n",
       "      <td>...</td>\n",
       "    </tr>\n",
       "    <tr>\n",
       "      <th>1283</th>\n",
       "      <td>2723598_T</td>\n",
       "      <td>2010-02-17 13:53:38+11:00</td>\n",
       "      <td>1</td>\n",
       "      <td>pres</td>\n",
       "      <td>5</td>\n",
       "      <td>2010</td>\n",
       "      <td>With that, let's open the call to your questions.</td>\n",
       "      <td>0</td>\n",
       "      <td>0</td>\n",
       "      <td>0</td>\n",
       "      <td>0</td>\n",
       "      <td>0</td>\n",
       "      <td>0</td>\n",
       "      <td>0</td>\n",
       "      <td>1</td>\n",
       "    </tr>\n",
       "    <tr>\n",
       "      <th>1284</th>\n",
       "      <td>2723598_T</td>\n",
       "      <td>2010-02-17 13:53:38+11:00</td>\n",
       "      <td>1</td>\n",
       "      <td>pres</td>\n",
       "      <td>5</td>\n",
       "      <td>2010</td>\n",
       "      <td>Yvette, please review the Q&amp;A procedure.</td>\n",
       "      <td>0</td>\n",
       "      <td>0</td>\n",
       "      <td>0</td>\n",
       "      <td>0</td>\n",
       "      <td>0</td>\n",
       "      <td>0</td>\n",
       "      <td>1</td>\n",
       "      <td>0</td>\n",
       "    </tr>\n",
       "    <tr>\n",
       "      <th>1285</th>\n",
       "      <td>739440_T</td>\n",
       "      <td>2003-05-07 12:37:12+10:00</td>\n",
       "      <td>1</td>\n",
       "      <td>qa</td>\n",
       "      <td>154</td>\n",
       "      <td>2003</td>\n",
       "      <td>This is a follow up question from Chris Joseph...</td>\n",
       "      <td>0</td>\n",
       "      <td>0</td>\n",
       "      <td>0</td>\n",
       "      <td>0</td>\n",
       "      <td>0</td>\n",
       "      <td>0</td>\n",
       "      <td>1</td>\n",
       "      <td>0</td>\n",
       "    </tr>\n",
       "    <tr>\n",
       "      <th>1286</th>\n",
       "      <td>739440_T</td>\n",
       "      <td>2003-05-07 12:37:12+10:00</td>\n",
       "      <td>1</td>\n",
       "      <td>qa</td>\n",
       "      <td>154</td>\n",
       "      <td>2003</td>\n",
       "      <td>from [inaudible].</td>\n",
       "      <td>0</td>\n",
       "      <td>0</td>\n",
       "      <td>0</td>\n",
       "      <td>0</td>\n",
       "      <td>0</td>\n",
       "      <td>0</td>\n",
       "      <td>1</td>\n",
       "      <td>0</td>\n",
       "    </tr>\n",
       "    <tr>\n",
       "      <th>1287</th>\n",
       "      <td>739440_T</td>\n",
       "      <td>2003-05-07 12:37:12+10:00</td>\n",
       "      <td>1</td>\n",
       "      <td>qa</td>\n",
       "      <td>154</td>\n",
       "      <td>2003</td>\n",
       "      <td>Please go ahead.</td>\n",
       "      <td>0</td>\n",
       "      <td>0</td>\n",
       "      <td>0</td>\n",
       "      <td>0</td>\n",
       "      <td>0</td>\n",
       "      <td>0</td>\n",
       "      <td>0</td>\n",
       "      <td>1</td>\n",
       "    </tr>\n",
       "  </tbody>\n",
       "</table>\n",
       "<p>1288 rows × 15 columns</p>\n",
       "</div>"
      ],
      "text/plain": [
       "       file_name                last_update  section context  speaker_number  \\\n",
       "0     12614899_T  2019-08-01 19:19:18+10:00        1      qa              23   \n",
       "1     12614899_T  2019-08-01 19:19:18+10:00        1      qa              23   \n",
       "2     12614899_T  2019-08-01 19:19:18+10:00        1      qa              23   \n",
       "3       702568_T  2003-01-30 16:25:51+11:00        1      qa             109   \n",
       "4       702568_T  2003-01-30 16:25:51+11:00        1      qa             109   \n",
       "...          ...                        ...      ...     ...             ...   \n",
       "1283   2723598_T  2010-02-17 13:53:38+11:00        1    pres               5   \n",
       "1284   2723598_T  2010-02-17 13:53:38+11:00        1    pres               5   \n",
       "1285    739440_T  2003-05-07 12:37:12+10:00        1      qa             154   \n",
       "1286    739440_T  2003-05-07 12:37:12+10:00        1      qa             154   \n",
       "1287    739440_T  2003-05-07 12:37:12+10:00        1      qa             154   \n",
       "\n",
       "      future_year                                       speaker_text  fl  qt  \\\n",
       "0            2019                                              Okay.   0   0   \n",
       "1            2019  And lastly from me, can you kind of give us a ...   0   0   \n",
       "2            2019     What's the share of wallet for Knoll products?   0   0   \n",
       "3            2003                                              Okay.   0   0   \n",
       "4            2003           So I don't think anybody said much more.   0   0   \n",
       "...           ...                                                ...  ..  ..   \n",
       "1283         2010  With that, let's open the call to your questions.   0   0   \n",
       "1284         2010           Yvette, please review the Q&A procedure.   0   0   \n",
       "1285         2003  This is a follow up question from Chris Joseph...   0   0   \n",
       "1286         2003                                  from [inaudible].   0   0   \n",
       "1287         2003                                   Please go ahead.   0   0   \n",
       "\n",
       "      fl_qt  fl_cal  qt_cal  fl_qt_cal  training sample  test sample  \n",
       "0         0       0       0          0                0            0  \n",
       "1         0       0       0          0                1            0  \n",
       "2         0       0       0          0                1            0  \n",
       "3         0       0       0          0                1            0  \n",
       "4         0       0       0          0                1            0  \n",
       "...     ...     ...     ...        ...              ...          ...  \n",
       "1283      0       0       0          0                0            1  \n",
       "1284      0       0       0          0                1            0  \n",
       "1285      0       0       0          0                1            0  \n",
       "1286      0       0       0          0                1            0  \n",
       "1287      0       0       0          0                0            1  \n",
       "\n",
       "[1288 rows x 15 columns]"
      ]
     },
     "execution_count": 1,
     "metadata": {},
     "output_type": "execute_result"
    }
   ],
   "source": [
    "import pandas as pd\n",
    "gold_standard = pd.read_excel(\"Gold Standard Corpus.xlsx\")\n",
    "gold_standard[['file_name', 'last_update', 'section', 'context', \n",
    "               'speaker_number', 'future_year',\n",
    "               'speaker_text', 'fl', 'qt', 'fl_qt', 'fl_cal',\n",
    "               'qt_cal', 'fl_qt_cal', 'training sample', 'test sample']]"
   ]
  },
  {
   "cell_type": "markdown",
   "id": "50ae3f84",
   "metadata": {},
   "source": [
    "The underlying text associated with the gold standard is found in [`Gold Standard Corpus.xlsx`](https://github.com/yiyangw2/time_frame_gold_corpus/blob/main/Gold%20Standard%20Corpus.xlsx). It is composed of 200 randomly picked up paragraphs of the management (1288 sentences). As you can see, each sentence has identifiers for where it comes from. And values for `fl_cal`,`qt_cal` and `fl_qt_cal`, reflecting whether the algorithm determines that whether the sentence is forward-looking, whether it contains time frames and whether it is a forward-looking statement with time frames. Similarly, each observation has values for `fl`,`qt` and `fl_qt`, which is whether I manually determine that whether the sentence is forward-looking, whether it contains time frames and whether it is a forward-looking statement with time frames. The underlying earnings calls' scripts are from the Melbourne Centre for Corporate Governance and Regulation (MCCGR) database. "
   ]
  },
  {
   "cell_type": "markdown",
   "id": "30beaca8",
   "metadata": {},
   "source": [
    "The following function applies the identification functions to each sentence and shows how `fl_cal`, `qt_cal` and `fl_qt_cal` in `gold_standard` are produced."
   ]
  },
  {
   "cell_type": "code",
   "execution_count": 2,
   "id": "9d44182d-0457-4a9b-99e7-590e213b8696",
   "metadata": {
    "execution": {
     "iopub.execute_input": "2024-07-10T22:39:52.766667Z",
     "iopub.status.busy": "2024-07-10T22:39:52.766530Z",
     "iopub.status.idle": "2024-07-10T22:39:52.768869Z",
     "shell.execute_reply": "2024-07-10T22:39:52.768664Z",
     "shell.execute_reply.started": "2024-07-10T22:39:52.766658Z"
    }
   },
   "outputs": [],
   "source": [
    "import re\n",
    "\n",
    "def create_regex_list(terms_file:str):\n",
    "    \"\"\"Creates a list of regex expressions of\n",
    "    short term orientation\"\"\"\n",
    "\n",
    "    # opens the specified dict_file in \"r\" (read) mode\n",
    "    with open(terms_file,\"r\") as file:\n",
    "        # reads the content of the file line-by-line\n",
    "        # and creates a list of terms\n",
    "        terms = file.read().splitlines()\n",
    "\n",
    "    # creates a list of regex expressions by adding\n",
    "    # word boundary (\\b) anchors to the beginning and\n",
    "    # the ending of each FLS term\n",
    "    terms_regex = [re.compile(r'\\b' + term + r'\\b') for term in terms]\n",
    "    return terms_regex"
   ]
  },
  {
   "cell_type": "code",
   "execution_count": 3,
   "id": "f6612936-ebdc-404d-be00-694fb456f248",
   "metadata": {
    "execution": {
     "iopub.execute_input": "2024-07-10T22:39:52.769264Z",
     "iopub.status.busy": "2024-07-10T22:39:52.769191Z",
     "iopub.status.idle": "2024-07-10T22:39:52.771272Z",
     "shell.execute_reply": "2024-07-10T22:39:52.771048Z",
     "shell.execute_reply.started": "2024-07-10T22:39:52.769256Z"
    }
   },
   "outputs": [],
   "source": [
    "def get_future_year_regex(future_year):\n",
    "    return [re.compile(r\"[^$,]\\b\" + str(y) + r\"\\b(?!(%|,\\d|.\\d))\") \n",
    "            for y in range(future_year + 1, future_year + 10)]\n",
    "\n",
    "def is_forward_looking(sentence:str, future_year=None):\n",
    "    \"\"\"Returns whether sentence is forward-looking.\"\"\"\n",
    "    fls_terms_regex = create_regex_list(r\"fls_terms2.txt\")\n",
    "    \n",
    "    if future_year:\n",
    "        regex = get_future_year_regex(future_year) + fls_terms_regex\n",
    "    else:\n",
    "        regex = fls_terms_regex\n",
    "    for term in regex:\n",
    "        if term.search(sentence.lower()):\n",
    "            return True\n",
    "    return False"
   ]
  },
  {
   "cell_type": "code",
   "execution_count": 4,
   "id": "4967c2bc-1a2e-4f54-8533-af8fcbf9fe69",
   "metadata": {
    "execution": {
     "iopub.execute_input": "2024-07-10T22:39:52.771783Z",
     "iopub.status.busy": "2024-07-10T22:39:52.771659Z",
     "iopub.status.idle": "2024-07-10T22:39:52.773652Z",
     "shell.execute_reply": "2024-07-10T22:39:52.773428Z",
     "shell.execute_reply.started": "2024-07-10T22:39:52.771775Z"
    }
   },
   "outputs": [],
   "source": [
    "def count_term(text:str, regex):\n",
    "    \"\"\"Returns the number of long-term oriented.\"\"\"\n",
    "    text = text.lower()\n",
    "    count = 0\n",
    "    for term in regex:\n",
    "      count = count + len(re.findall(term, text))\n",
    "    return count\n",
    "\n",
    "def is_term(text:str, regex): \n",
    "  return count_term(text, regex) > 0\n",
    "\n",
    "def is_qt_term(text:str): \n",
    "  return is_term(text, create_regex_list(r\"qt_terms2.txt\"))\n",
    "\n",
    "def is_future_year(text, future_year):\n",
    "    return is_term(text, get_future_year_regex(future_year))"
   ]
  },
  {
   "cell_type": "code",
   "execution_count": 5,
   "id": "0c8e0a5d-f6b8-40c1-907f-ef4bb5c4e2c3",
   "metadata": {
    "execution": {
     "iopub.execute_input": "2024-07-10T22:39:52.774015Z",
     "iopub.status.busy": "2024-07-10T22:39:52.773946Z",
     "iopub.status.idle": "2024-07-10T22:39:53.651551Z",
     "shell.execute_reply": "2024-07-10T22:39:53.651295Z",
     "shell.execute_reply.started": "2024-07-10T22:39:52.774007Z"
    }
   },
   "outputs": [],
   "source": [
    "gold_standard['is_future_year'] = gold_standard.apply(lambda x: is_future_year(x['speaker_text'], x['future_year']), axis=1)\n",
    "gold_standard['is_term'] = gold_standard['speaker_text'].map(is_qt_term)\n",
    "gold_standard['fl_cal'] = gold_standard.apply(lambda x: is_forward_looking(x['speaker_text'], x['future_year']), axis=1)\n",
    "gold_standard['qt_cal'] = (gold_standard.is_term | gold_standard.is_future_year)\n",
    "gold_standard[\"fl_qt_cal\"] = gold_standard.fl_cal & gold_standard.qt_cal"
   ]
  },
  {
   "cell_type": "markdown",
   "id": "19569d34",
   "metadata": {},
   "source": [
    "The following function generates statistics to report the performance of the algorithm on identifying forward-looking statements and forward-looking statements with time frames."
   ]
  },
  {
   "cell_type": "code",
   "execution_count": 6,
   "id": "322980da",
   "metadata": {
    "execution": {
     "iopub.execute_input": "2024-07-10T22:39:53.653015Z",
     "iopub.status.busy": "2024-07-10T22:39:53.652941Z",
     "iopub.status.idle": "2024-07-10T22:39:53.655437Z",
     "shell.execute_reply": "2024-07-10T22:39:53.655196Z",
     "shell.execute_reply.started": "2024-07-10T22:39:53.653007Z"
    }
   },
   "outputs": [],
   "source": [
    "def print_stats(df, type = 'fl'):\n",
    "    var = type\n",
    "    var_cal = type + '_cal'\n",
    "    \n",
    "    tn = sum((df[var] == df[var_cal]) & ~df[var_cal])\n",
    "    fp = sum((df[var] != df[var_cal]) & df[var_cal])\n",
    "    fn = sum((df[var] != df[var_cal]) & ~df[var_cal])\n",
    "    tp = sum((df[var] == df[var_cal]) & df[var_cal])\n",
    "    \n",
    "    print(\"Accuracy {:.2f}%\".format( 100 * (tp + tn)/(tp + tn + fp + fn)))\n",
    "    if tp + fp > 0:\n",
    "        print(\"Precision {:.2f}%\".format( 100 * tp/(tp + fp)))\n",
    "    if tp + fn > 0:\n",
    "        print(\"True positive rate {:.2f}%\".format( 100 * tp/(tp + fn)))"
   ]
  },
  {
   "cell_type": "code",
   "execution_count": 7,
   "id": "a5fc9a1c",
   "metadata": {
    "execution": {
     "iopub.execute_input": "2024-07-10T22:39:53.655819Z",
     "iopub.status.busy": "2024-07-10T22:39:53.655749Z",
     "iopub.status.idle": "2024-07-10T22:39:53.658737Z",
     "shell.execute_reply": "2024-07-10T22:39:53.658504Z",
     "shell.execute_reply.started": "2024-07-10T22:39:53.655812Z"
    }
   },
   "outputs": [
    {
     "name": "stdout",
     "output_type": "stream",
     "text": [
      "Accuracy 95.23%\n",
      "Precision 82.09%\n",
      "True positive rate 85.94%\n"
     ]
    }
   ],
   "source": [
    "print_stats(gold_standard[gold_standard['training sample']==1], type = 'fl')"
   ]
  },
  {
   "cell_type": "code",
   "execution_count": 8,
   "id": "49d87da3",
   "metadata": {
    "execution": {
     "iopub.execute_input": "2024-07-10T22:39:53.659237Z",
     "iopub.status.busy": "2024-07-10T22:39:53.659133Z",
     "iopub.status.idle": "2024-07-10T22:39:53.661730Z",
     "shell.execute_reply": "2024-07-10T22:39:53.661504Z",
     "shell.execute_reply.started": "2024-07-10T22:39:53.659229Z"
    }
   },
   "outputs": [
    {
     "name": "stdout",
     "output_type": "stream",
     "text": [
      "Accuracy 97.16%\n",
      "Precision 90.20%\n",
      "True positive rate 69.70%\n"
     ]
    }
   ],
   "source": [
    "print_stats(gold_standard[gold_standard['training sample']==1], type = 'fl_qt')"
   ]
  },
  {
   "cell_type": "code",
   "execution_count": 9,
   "id": "8279b9d0",
   "metadata": {
    "execution": {
     "iopub.execute_input": "2024-07-10T22:39:53.662070Z",
     "iopub.status.busy": "2024-07-10T22:39:53.662004Z",
     "iopub.status.idle": "2024-07-10T22:39:53.665044Z",
     "shell.execute_reply": "2024-07-10T22:39:53.664787Z",
     "shell.execute_reply.started": "2024-07-10T22:39:53.662063Z"
    }
   },
   "outputs": [
    {
     "name": "stdout",
     "output_type": "stream",
     "text": [
      "Accuracy 95.82%\n",
      "Precision 83.61%\n",
      "True positive rate 87.93%\n"
     ]
    }
   ],
   "source": [
    "print_stats(gold_standard[gold_standard['training sample']==0], type = 'fl')"
   ]
  },
  {
   "cell_type": "code",
   "execution_count": 10,
   "id": "8b09f56c",
   "metadata": {
    "execution": {
     "iopub.execute_input": "2024-07-10T22:39:53.665623Z",
     "iopub.status.busy": "2024-07-10T22:39:53.665492Z",
     "iopub.status.idle": "2024-07-10T22:39:53.668585Z",
     "shell.execute_reply": "2024-07-10T22:39:53.668305Z",
     "shell.execute_reply.started": "2024-07-10T22:39:53.665613Z"
    }
   },
   "outputs": [
    {
     "name": "stdout",
     "output_type": "stream",
     "text": [
      "Accuracy 96.81%\n",
      "Precision 76.00%\n",
      "True positive rate 73.08%\n"
     ]
    }
   ],
   "source": [
    "print_stats(gold_standard[gold_standard['training sample']==0], type = 'fl_qt')"
   ]
  }
 ],
 "metadata": {
  "kernelspec": {
   "display_name": "Python 3 (ipykernel)",
   "language": "python",
   "name": "python3"
  },
  "language_info": {
   "codemirror_mode": {
    "name": "ipython",
    "version": 3
   },
   "file_extension": ".py",
   "mimetype": "text/x-python",
   "name": "python",
   "nbconvert_exporter": "python",
   "pygments_lexer": "ipython3",
   "version": "3.12.4"
  }
 },
 "nbformat": 4,
 "nbformat_minor": 5
}
